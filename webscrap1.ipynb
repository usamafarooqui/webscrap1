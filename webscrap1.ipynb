{
 "cells": [
  {
   "cell_type": "markdown",
   "metadata": {},
   "source": [
    "# web scrapping assignment"
   ]
  },
  {
   "cell_type": "code",
   "execution_count": 2,
   "metadata": {},
   "outputs": [],
   "source": [
    "from bs4 import  BeautifulSoup\n",
    "import requests"
   ]
  },
  {
   "cell_type": "code",
   "execution_count": 4,
   "metadata": {},
   "outputs": [],
   "source": [
    "page = requests.get(\"https://en.wikipedia.org/wiki/Computer_science\")"
   ]
  },
  {
   "cell_type": "code",
   "execution_count": 5,
   "metadata": {},
   "outputs": [
    {
     "data": {
      "text/plain": [
       "200"
      ]
     },
     "execution_count": 5,
     "metadata": {},
     "output_type": "execute_result"
    }
   ],
   "source": [
    "page.status_code"
   ]
  },
  {
   "cell_type": "code",
   "execution_count": 6,
   "metadata": {},
   "outputs": [],
   "source": [
    "soup = BeautifulSoup(page.content,'html.parser')"
   ]
  },
  {
   "cell_type": "code",
   "execution_count": 8,
   "metadata": {},
   "outputs": [],
   "source": [
    "title = soup.find(\"h1\",id=\"firstHeading\")"
   ]
  },
  {
   "cell_type": "code",
   "execution_count": 9,
   "metadata": {},
   "outputs": [
    {
     "name": "stdout",
     "output_type": "stream",
     "text": [
      "Computer science\n"
     ]
    }
   ],
   "source": [
    "print(title.text)"
   ]
  },
  {
   "cell_type": "code",
   "execution_count": 16,
   "metadata": {},
   "outputs": [],
   "source": [
    "head2 = soup.find_all(\"h2\")"
   ]
  },
  {
   "cell_type": "code",
   "execution_count": 17,
   "metadata": {},
   "outputs": [
    {
     "data": {
      "text/plain": [
       "[<h2 id=\"mw-toc-heading\">Contents</h2>,\n",
       " <h2><span class=\"mw-headline\" id=\"History\">History</span><span class=\"mw-editsection\"><span class=\"mw-editsection-bracket\">[</span><a href=\"/w/index.php?title=Computer_science&amp;action=edit&amp;section=1\" title=\"Edit section: History\">edit</a><span class=\"mw-editsection-bracket\">]</span></span></h2>,\n",
       " <h2><span class=\"mw-headline\" id=\"Etymology\">Etymology</span><span class=\"mw-editsection\"><span class=\"mw-editsection-bracket\">[</span><a href=\"/w/index.php?title=Computer_science&amp;action=edit&amp;section=2\" title=\"Edit section: Etymology\">edit</a><span class=\"mw-editsection-bracket\">]</span></span></h2>,\n",
       " <h2><span class=\"mw-headline\" id=\"Philosophy\">Philosophy</span><span class=\"mw-editsection\"><span class=\"mw-editsection-bracket\">[</span><a href=\"/w/index.php?title=Computer_science&amp;action=edit&amp;section=3\" title=\"Edit section: Philosophy\">edit</a><span class=\"mw-editsection-bracket\">]</span></span></h2>,\n",
       " <h2><span class=\"mw-headline\" id=\"Fields\">Fields</span><span class=\"mw-editsection\"><span class=\"mw-editsection-bracket\">[</span><a href=\"/w/index.php?title=Computer_science&amp;action=edit&amp;section=6\" title=\"Edit section: Fields\">edit</a><span class=\"mw-editsection-bracket\">]</span></span></h2>,\n",
       " <h2><span class=\"mw-headline\" id=\"Discoveries\">Discoveries</span><span class=\"mw-editsection\"><span class=\"mw-editsection-bracket\">[</span><a href=\"/w/index.php?title=Computer_science&amp;action=edit&amp;section=25\" title=\"Edit section: Discoveries\">edit</a><span class=\"mw-editsection-bracket\">]</span></span></h2>,\n",
       " <h2><span class=\"mw-headline\" id=\"Programming_paradigms\">Programming paradigms</span><span class=\"mw-editsection\"><span class=\"mw-editsection-bracket\">[</span><a href=\"/w/index.php?title=Computer_science&amp;action=edit&amp;section=26\" title=\"Edit section: Programming paradigms\">edit</a><span class=\"mw-editsection-bracket\">]</span></span></h2>,\n",
       " <h2><span class=\"mw-headline\" id=\"Academia\">Academia</span><span class=\"mw-editsection\"><span class=\"mw-editsection-bracket\">[</span><a href=\"/w/index.php?title=Computer_science&amp;action=edit&amp;section=27\" title=\"Edit section: Academia\">edit</a><span class=\"mw-editsection-bracket\">]</span></span></h2>,\n",
       " <h2><span class=\"mw-headline\" id=\"Education\">Education</span><span class=\"mw-editsection\"><span class=\"mw-editsection-bracket\">[</span><a href=\"/w/index.php?title=Computer_science&amp;action=edit&amp;section=28\" title=\"Edit section: Education\">edit</a><span class=\"mw-editsection-bracket\">]</span></span></h2>,\n",
       " <h2><span class=\"mw-headline\" id=\"See_also\">See also</span><span class=\"mw-editsection\"><span class=\"mw-editsection-bracket\">[</span><a href=\"/w/index.php?title=Computer_science&amp;action=edit&amp;section=29\" title=\"Edit section: See also\">edit</a><span class=\"mw-editsection-bracket\">]</span></span></h2>,\n",
       " <h2><span class=\"mw-headline\" id=\"Notes\">Notes</span><span class=\"mw-editsection\"><span class=\"mw-editsection-bracket\">[</span><a href=\"/w/index.php?title=Computer_science&amp;action=edit&amp;section=30\" title=\"Edit section: Notes\">edit</a><span class=\"mw-editsection-bracket\">]</span></span></h2>,\n",
       " <h2><span class=\"mw-headline\" id=\"References\">References</span><span class=\"mw-editsection\"><span class=\"mw-editsection-bracket\">[</span><a href=\"/w/index.php?title=Computer_science&amp;action=edit&amp;section=31\" title=\"Edit section: References\">edit</a><span class=\"mw-editsection-bracket\">]</span></span></h2>,\n",
       " <h2><span class=\"mw-headline\" id=\"Further_reading\">Further reading</span><span class=\"mw-editsection\"><span class=\"mw-editsection-bracket\">[</span><a href=\"/w/index.php?title=Computer_science&amp;action=edit&amp;section=32\" title=\"Edit section: Further reading\">edit</a><span class=\"mw-editsection-bracket\">]</span></span></h2>,\n",
       " <h2><span class=\"mw-headline\" id=\"External_links\">External links</span><span class=\"mw-editsection\"><span class=\"mw-editsection-bracket\">[</span><a href=\"/w/index.php?title=Computer_science&amp;action=edit&amp;section=37\" title=\"Edit section: External links\">edit</a><span class=\"mw-editsection-bracket\">]</span></span></h2>,\n",
       " <h2>Navigation menu</h2>]"
      ]
     },
     "execution_count": 17,
     "metadata": {},
     "output_type": "execute_result"
    }
   ],
   "source": [
    "head2"
   ]
  },
  {
   "cell_type": "code",
   "execution_count": 18,
   "metadata": {},
   "outputs": [],
   "source": [
    "para = soup.find_all(\"p\")"
   ]
  },
  {
   "cell_type": "code",
   "execution_count": 19,
   "metadata": {},
   "outputs": [
    {
     "data": {
      "text/plain": [
       "[<p class=\"mw-empty-elt\">\n",
       " </p>,\n",
       " <p><b>Computer science</b> is the study of <a href=\"/wiki/Computation\" title=\"Computation\">computation</a>, <a href=\"/wiki/Automation\" title=\"Automation\">automation</a>, and <a href=\"/wiki/Information\" title=\"Information\">information</a>.<sup class=\"reference\" id=\"cite_ref-1\"><a href=\"#cite_note-1\">[1]</a></sup> Computer science spans theoretical disciplines (such as <a href=\"/wiki/Algorithm\" title=\"Algorithm\">algorithms</a>, <a href=\"/wiki/Theory_of_computation\" title=\"Theory of computation\">theory of computation</a>, and <a href=\"/wiki/Information_theory\" title=\"Information theory\">information theory</a>) to <a href=\"/wiki/Applied_science\" title=\"Applied science\">practical disciplines</a> (including the design and implementation of <a href=\"/wiki/Computer_architecture\" title=\"Computer architecture\">hardware</a> and <a href=\"/wiki/Computer_programming\" title=\"Computer programming\">software</a>).<sup class=\"reference\" id=\"cite_ref-2\"><a href=\"#cite_note-2\">[2]</a></sup><sup class=\"reference\" id=\"cite_ref-3\"><a href=\"#cite_note-3\">[3]</a></sup> Computer science is generally considered an area of <a href=\"/wiki/Research\" title=\"Research\">academic research</a> and distinct from <a href=\"/wiki/Computer_programming\" title=\"Computer programming\">computer programming</a>.<sup class=\"reference\" id=\"cite_ref-4\"><a href=\"#cite_note-4\">[4]</a></sup>\n",
       " </p>,\n",
       " <p><a href=\"/wiki/Algorithm\" title=\"Algorithm\">Algorithms</a> and <a class=\"mw-redirect\" href=\"/wiki/Data_structures\" title=\"Data structures\">data structures</a> are central to computer science.<sup class=\"reference\" id=\"cite_ref-5\"><a href=\"#cite_note-5\">[5]</a></sup>\n",
       " The <a href=\"/wiki/Theory_of_computation\" title=\"Theory of computation\">theory of computation</a> concerns abstract <a class=\"mw-redirect\" href=\"/wiki/Models_of_computation\" title=\"Models of computation\">models of computation</a> and general classes of <a href=\"/wiki/Computational_problem\" title=\"Computational problem\">problems</a> that can be solved using them. The fields of <a href=\"/wiki/Cryptography\" title=\"Cryptography\">cryptography</a> and <a href=\"/wiki/Computer_security\" title=\"Computer security\">computer security</a> involve studying the means for secure communication and for preventing <a href=\"/wiki/Vulnerability_(computing)\" title=\"Vulnerability (computing)\">security vulnerabilities</a>. <a href=\"/wiki/Computer_graphics_(computer_science)\" title=\"Computer graphics (computer science)\">Computer graphics</a> and <a href=\"/wiki/Computational_geometry\" title=\"Computational geometry\">computational geometry</a> address the generation of images. <a href=\"/wiki/Programming_language_theory\" title=\"Programming language theory\">Programming language theory</a> considers approaches to the description of computational processes, and <a href=\"/wiki/Database\" title=\"Database\">database</a> theory concerns the management of repositories of data. <a href=\"/wiki/Human%E2%80%93computer_interaction\" title=\"Human–computer interaction\">Human–computer interaction</a> investigates the interfaces through which humans and computers interact, and <a href=\"/wiki/Software_engineering\" title=\"Software engineering\">software engineering</a> focuses on the design and principles behind developing software. Areas such as <a href=\"/wiki/Operating_system\" title=\"Operating system\">operating systems</a>, <a href=\"/wiki/Computer_network\" title=\"Computer network\">networks</a> and <a href=\"/wiki/Embedded_system\" title=\"Embedded system\">embedded systems</a> investigate the principles and design behind <a class=\"mw-redirect\" href=\"/wiki/Complex_systems\" title=\"Complex systems\">complex systems</a>. <a href=\"/wiki/Computer_architecture\" title=\"Computer architecture\">Computer architecture</a> describes the construction of computer components and computer-operated equipment. <a href=\"/wiki/Artificial_intelligence\" title=\"Artificial intelligence\">Artificial intelligence</a> and <a href=\"/wiki/Machine_learning\" title=\"Machine learning\">machine learning</a> aim to synthesize goal-orientated processes such as problem-solving, decision-making, environmental adaptation, <a href=\"/wiki/Automated_planning_and_scheduling\" title=\"Automated planning and scheduling\">planning</a> and learning found in humans and animals. Within artificial intelligence, <a href=\"/wiki/Computer_vision\" title=\"Computer vision\">computer vision</a> aims to understand and process image and video data, while <a class=\"mw-redirect\" href=\"/wiki/Natural-language_processing\" title=\"Natural-language processing\">natural-language processing</a> aims to understand and process textual and linguistic data.\n",
       " </p>,\n",
       " <p>The fundamental concern of computer science is determining what can and cannot be automated.<sup class=\"reference\" id=\"cite_ref-6\"><a href=\"#cite_note-6\">[6]</a></sup><sup class=\"reference\" id=\"cite_ref-7\"><a href=\"#cite_note-7\">[7]</a></sup><sup class=\"reference\" id=\"cite_ref-8\"><a href=\"#cite_note-8\">[8]</a></sup><sup class=\"reference\" id=\"cite_ref-9\"><a href=\"#cite_note-9\">[9]</a></sup><sup class=\"reference\" id=\"cite_ref-10\"><a href=\"#cite_note-10\">[10]</a></sup> The <a href=\"/wiki/Turing_Award\" title=\"Turing Award\">Turing Award</a> is generally recognized as the highest distinction in computer science.<sup class=\"reference\" id=\"cite_ref-11\"><a href=\"#cite_note-11\">[11]</a></sup><sup class=\"reference\" id=\"cite_ref-12\"><a href=\"#cite_note-12\">[12]</a></sup>\n",
       " </p>,\n",
       " <p>The earliest foundations of what would become computer science predate the invention of the modern <a class=\"mw-redirect\" href=\"/wiki/Digital_computer\" title=\"Digital computer\">digital computer</a>. Machines for calculating fixed numerical tasks such as the <a href=\"/wiki/Abacus\" title=\"Abacus\">abacus</a> have existed since antiquity, aiding in computations such as multiplication and division. <a href=\"/wiki/Algorithm\" title=\"Algorithm\">Algorithms</a> for performing computations have existed since antiquity, even before the development of sophisticated computing equipment.\n",
       " </p>,\n",
       " <p><a href=\"/wiki/Wilhelm_Schickard\" title=\"Wilhelm Schickard\">Wilhelm Schickard</a> designed and constructed the first working <a href=\"/wiki/Mechanical_calculator\" title=\"Mechanical calculator\">mechanical calculator</a> in 1623.<sup class=\"reference\" id=\"cite_ref-15\"><a href=\"#cite_note-15\">[15]</a></sup> In 1673, <a class=\"mw-redirect\" href=\"/wiki/Gottfried_Leibniz\" title=\"Gottfried Leibniz\">Gottfried Leibniz</a> demonstrated a digital mechanical calculator, called the <a class=\"mw-redirect\" href=\"/wiki/Stepped_Reckoner\" title=\"Stepped Reckoner\">Stepped Reckoner</a>.<sup class=\"reference\" id=\"cite_ref-16\"><a href=\"#cite_note-16\">[16]</a></sup> Leibniz may be considered the first computer scientist and information theorist, for, among other reasons, documenting the binary number system. In 1820, <a href=\"/wiki/Charles_Xavier_Thomas\" title=\"Charles Xavier Thomas\">Thomas de Colmar</a> launched the <a href=\"/wiki/Mechanical_calculator\" title=\"Mechanical calculator\">mechanical calculator</a> industry<sup class=\"reference\" id=\"cite_ref-17\"><a href=\"#cite_note-17\">[note 1]</a></sup> when he invented his simplified <a href=\"/wiki/Arithmometer\" title=\"Arithmometer\">arithmometer</a>, the first calculating machine strong enough and reliable enough to be used daily in an office environment. <a href=\"/wiki/Charles_Babbage\" title=\"Charles Babbage\">Charles Babbage</a> started the design of the first <i>automatic mechanical calculator</i>, his <a class=\"mw-redirect\" href=\"/wiki/Difference_Engine\" title=\"Difference Engine\">Difference Engine</a>, in 1822, which eventually gave him the idea of the first <i>programmable mechanical calculator</i>, his <a href=\"/wiki/Analytical_Engine\" title=\"Analytical Engine\">Analytical Engine</a>.<sup class=\"reference\" id=\"cite_ref-18\"><a href=\"#cite_note-18\">[17]</a></sup> He started developing this machine in 1834, and \"in less than two years, he had sketched out many of the <a class=\"extiw\" href=\"https://en.wiktionary.org/wiki/Special:Search/salient\" title=\"wikt:Special:Search/salient\">salient</a> features of the modern computer\".<sup class=\"reference\" id=\"cite_ref-Hyman1982_19-0\"><a href=\"#cite_note-Hyman1982-19\">[18]</a></sup> \"A crucial step was the adoption of a punched card system derived from the <a class=\"mw-redirect\" href=\"/wiki/Jacquard_loom\" title=\"Jacquard loom\">Jacquard loom</a>\"<sup class=\"reference\" id=\"cite_ref-Hyman1982_19-1\"><a href=\"#cite_note-Hyman1982-19\">[18]</a></sup> making it infinitely programmable.<sup class=\"reference\" id=\"cite_ref-20\"><a href=\"#cite_note-20\">[note 2]</a></sup> In 1843, during the translation of a French article on the Analytical Engine, <a href=\"/wiki/Ada_Lovelace\" title=\"Ada Lovelace\">Ada Lovelace</a> wrote, in one of the many notes she included, an algorithm to compute the <a href=\"/wiki/Bernoulli_number\" title=\"Bernoulli number\">Bernoulli numbers</a>, which is considered to be the first published algorithm ever specifically tailored for implementation on a computer.<sup class=\"reference\" id=\"cite_ref-21\"><a href=\"#cite_note-21\">[19]</a></sup> Around 1885, <a href=\"/wiki/Herman_Hollerith\" title=\"Herman Hollerith\">Herman Hollerith</a> invented the <a href=\"/wiki/Tabulating_machine\" title=\"Tabulating machine\">tabulator</a>, which used <a href=\"/wiki/Punched_card\" title=\"Punched card\">punched cards</a> to process statistical information; eventually his company became part of <a href=\"/wiki/IBM\" title=\"IBM\">IBM</a>. Following Babbage, although unaware of his earlier work, <a href=\"/wiki/Percy_Ludgate\" title=\"Percy Ludgate\">Percy Ludgate</a> in 1909 published<sup class=\"reference\" id=\"cite_ref-22\"><a href=\"#cite_note-22\">[20]</a></sup> the 2nd of the only two designs for mechanical analytical engines in history. In 1937, one hundred years after Babbage's impossible dream, <a href=\"/wiki/Howard_H._Aiken\" title=\"Howard H. Aiken\">Howard Aiken</a> convinced IBM, which was making all kinds of punched card equipment and was also in the calculator business<sup class=\"reference\" id=\"cite_ref-23\"><a href=\"#cite_note-23\">[21]</a></sup> to develop his giant programmable calculator, the <a href=\"/wiki/Harvard_Mark_I\" title=\"Harvard Mark I\">ASCC/Harvard Mark I</a>, based on Babbage's Analytical Engine, which itself used cards and a central computing unit. When the machine was finished, some hailed it as \"Babbage's dream come true\".<sup class=\"reference\" id=\"cite_ref-24\"><a href=\"#cite_note-24\">[22]</a></sup>\n",
       " </p>,\n",
       " <p>\n",
       " During the 1940s, with the development of new and more powerful <a href=\"/wiki/Computing\" title=\"Computing\">computing</a> machines such as the <a href=\"/wiki/Atanasoff%E2%80%93Berry_computer\" title=\"Atanasoff–Berry computer\">Atanasoff–Berry computer</a> and <a href=\"/wiki/ENIAC\" title=\"ENIAC\">ENIAC</a>, the term <i>computer</i> came to refer to the machines rather than their human predecessors.<sup class=\"reference\" id=\"cite_ref-25\"><a href=\"#cite_note-25\">[23]</a></sup> As it became clear that computers could be used for more than just mathematical calculations, the field of computer science broadened to study <a href=\"/wiki/Computation\" title=\"Computation\">computation</a> in general. In 1945, <a href=\"/wiki/IBM\" title=\"IBM\">IBM</a> founded the Watson Scientific Computing Laboratory at <a href=\"/wiki/Columbia_University\" title=\"Columbia University\">Columbia University</a> in <a href=\"/wiki/New_York_City\" title=\"New York City\">New York City</a>. The renovated fraternity house on Manhattan's West Side was IBM's first laboratory devoted to pure science. The lab is the forerunner of IBM's Research Division, which today operates research facilities around the world.<sup class=\"reference\" id=\"cite_ref-26\"><a href=\"#cite_note-26\">[24]</a></sup> Ultimately, the close relationship between IBM and the university was instrumental in the emergence of a new scientific discipline, with Columbia offering one of the first academic-credit courses in computer science in 1946.<sup class=\"reference\" id=\"cite_ref-27\"><a href=\"#cite_note-27\">[25]</a></sup> Computer science began to be established as a distinct academic discipline in the 1950s and early 1960s.<sup class=\"reference\" id=\"cite_ref-Denning_cs_discipline_28-0\"><a href=\"#cite_note-Denning_cs_discipline-28\">[26]</a></sup><sup class=\"reference\" id=\"cite_ref-29\"><a href=\"#cite_note-29\">[27]</a></sup> The world's first computer science degree program, the <a href=\"/wiki/Cambridge_Diploma_in_Computer_Science\" title=\"Cambridge Diploma in Computer Science\">Cambridge Diploma in Computer Science</a>, began at the <a href=\"/wiki/University_of_Cambridge\" title=\"University of Cambridge\">University of Cambridge</a> <a class=\"mw-redirect\" href=\"/wiki/Cambridge_Computer_Lab\" title=\"Cambridge Computer Lab\">Computer Laboratory</a> in 1953. The first computer science department in the United States was formed at <a href=\"/wiki/Purdue_University\" title=\"Purdue University\">Purdue University</a> in 1962.<sup class=\"reference\" id=\"cite_ref-30\"><a href=\"#cite_note-30\">[28]</a></sup> Since practical computers became available, many applications of computing have become distinct areas of study in their own rights.<link href=\"mw-data:TemplateStyles:r1033289096\" rel=\"mw-deduplicated-inline-style\"/></p>,\n",
       " <p>Although first proposed in 1956,<sup class=\"reference\" id=\"cite_ref-Tedre2014_31-0\"><a href=\"#cite_note-Tedre2014-31\">[29]</a></sup> the term \"computer science\" appears in a 1959 article in <i><a href=\"/wiki/Communications_of_the_ACM\" title=\"Communications of the ACM\">Communications of the ACM</a></i>,<sup class=\"reference\" id=\"cite_ref-Fine_1959_32-0\"><a href=\"#cite_note-Fine_1959-32\">[30]</a></sup>\n",
       " in which Louis Fein argues for the creation of a <i>Graduate School in Computer Sciences</i> analogous to the creation of <a href=\"/wiki/Harvard_Business_School\" title=\"Harvard Business School\">Harvard Business School</a> in 1921,<sup class=\"reference\" id=\"cite_ref-33\"><a href=\"#cite_note-33\">[31]</a></sup> justifying the name by arguing that, like <a href=\"/wiki/Management_science\" title=\"Management science\">management science</a>, the subject is applied and interdisciplinary in nature, while having the characteristics typical of an academic discipline.<sup class=\"reference\" id=\"cite_ref-Fine_1959_32-1\"><a href=\"#cite_note-Fine_1959-32\">[30]</a></sup>\n",
       " His efforts, and those of others such as <a href=\"/wiki/Numerical_analysis\" title=\"Numerical analysis\">numerical analyst</a> <a href=\"/wiki/George_Forsythe\" title=\"George Forsythe\">George Forsythe</a>, were rewarded: universities went on to create such departments, starting with Purdue in 1962.<sup class=\"reference\" id=\"cite_ref-34\"><a href=\"#cite_note-34\">[32]</a></sup> Despite its name, a significant amount of computer science does not involve the study of computers themselves. Because of this, several alternative names have been proposed.<sup class=\"reference\" id=\"cite_ref-35\"><a href=\"#cite_note-35\">[33]</a></sup> Certain departments of major universities prefer the term <i>computing science</i>, to emphasize precisely that difference. Danish scientist <a href=\"/wiki/Peter_Naur\" title=\"Peter Naur\">Peter Naur</a> suggested the term <i>datalogy</i>,<sup class=\"reference\" id=\"cite_ref-36\"><a href=\"#cite_note-36\">[34]</a></sup> to reflect the fact that the scientific discipline revolves around data and data treatment, while not necessarily involving computers. The first scientific institution to use the term was the Department of Datalogy at the University of Copenhagen, founded in 1969, with Peter Naur being the first professor in datalogy. The term is used mainly in the Scandinavian countries. An alternative term, also proposed by Naur, is <a href=\"/wiki/Data_science\" title=\"Data science\">data science</a>; this is now used for a <a class=\"mw-redirect\" href=\"/wiki/Multi-disciplinary\" title=\"Multi-disciplinary\">multi-disciplinary</a> field of data analysis, including statistics and databases.\n",
       " </p>,\n",
       " <p>In the early days of computing, a number of terms for the practitioners of the field of computing were suggested in the <i>Communications of the ACM</i>—<i>turingineer</i>, <i>turologist</i>, <i>flow-charts-man</i>, <i>applied meta-mathematician</i>, and <i>applied <a href=\"/wiki/Epistemology\" title=\"Epistemology\">epistemologist</a></i>.<sup class=\"reference\" id=\"cite_ref-37\"><a href=\"#cite_note-37\">[35]</a></sup> Three months later in the same journal, <i>comptologist</i> was suggested, followed next year by <i>hypologist</i>.<sup class=\"reference\" id=\"cite_ref-38\"><a href=\"#cite_note-38\">[36]</a></sup> The term <i>computics</i> has also been suggested.<sup class=\"reference\" id=\"cite_ref-39\"><a href=\"#cite_note-39\">[37]</a></sup> <span class=\"anchor\" id=\"Name_of_the_field_in_Europe\"></span>In Europe, terms derived from contracted translations of the expression \"automatic information\" (e.g. \"informazione automatica\" in Italian) or \"information and mathematics\" are often used, e.g. <i>informatique</i> (French), <i>Informatik</i> (German), <i>informatica</i> (Italian, Dutch), <i>informática</i> (Spanish, Portuguese), <i>informatika</i> (<a href=\"/wiki/Slavic_languages\" title=\"Slavic languages\">Slavic languages</a> and <a href=\"/wiki/Hungarian_language\" title=\"Hungarian language\">Hungarian</a>) or <i>pliroforiki</i> (<i>πληροφορική</i>, which means informatics) in <a href=\"/wiki/Greek_language\" title=\"Greek language\">Greek</a>. Similar words have also been adopted in the UK (as in the <a href=\"/wiki/School_of_Informatics,_University_of_Edinburgh\" title=\"School of Informatics, University of Edinburgh\">School of Informatics, University of Edinburgh</a>).<sup class=\"reference\" id=\"cite_ref-40\"><a href=\"#cite_note-40\">[38]</a></sup> \"In the U.S., however, <a href=\"/wiki/Informatics\" title=\"Informatics\">informatics</a> is linked with applied computing, or computing in the context of another domain.\"<sup class=\"reference\" id=\"cite_ref-41\"><a href=\"#cite_note-41\">[39]</a></sup>\n",
       " </p>,\n",
       " <p>A folkloric quotation, often attributed to—but almost certainly not first formulated by—<a href=\"/wiki/Edsger_W._Dijkstra\" title=\"Edsger W. Dijkstra\">Edsger Dijkstra</a>, states that \"computer science is no more about computers than astronomy is about telescopes.\"<sup class=\"reference\" id=\"cite_ref-42\"><a href=\"#cite_note-42\">[note 3]</a></sup> The design and deployment of computers and computer systems is generally considered the province of disciplines other than computer science. For example, the study of computer hardware is usually considered part of <a href=\"/wiki/Computer_engineering\" title=\"Computer engineering\">computer engineering</a>, while the study of commercial <a class=\"mw-redirect\" href=\"/wiki/Computer_system\" title=\"Computer system\">computer systems</a> and their deployment is often called information technology or <a href=\"/wiki/Information_system\" title=\"Information system\">information systems</a>. However, there has been much cross-fertilization of ideas between the various computer-related disciplines. Computer science research also often intersects other disciplines, such as <a href=\"/wiki/Cognitive_science\" title=\"Cognitive science\">cognitive science</a>, <a href=\"/wiki/Computational_linguistics\" title=\"Computational linguistics\">linguistics</a>, <a href=\"/wiki/Mathematics\" title=\"Mathematics\">mathematics</a>, <a href=\"/wiki/Physics\" title=\"Physics\">physics</a>, <a href=\"/wiki/Biology\" title=\"Biology\">biology</a>, <a href=\"/wiki/Earth_science\" title=\"Earth science\">Earth science</a>, <a href=\"/wiki/Computational_statistics\" title=\"Computational statistics\">statistics</a>, <a href=\"/wiki/Philosophy\" title=\"Philosophy\">philosophy</a>, and <a href=\"/wiki/Logic\" title=\"Logic\">logic</a>.\n",
       " </p>,\n",
       " <p>Computer science is considered by some to have a much closer relationship with mathematics than many scientific disciplines, with some observers saying that computing is a mathematical science.<sup class=\"reference\" id=\"cite_ref-Denning_cs_discipline_28-1\"><a href=\"#cite_note-Denning_cs_discipline-28\">[26]</a></sup> Early computer science was strongly influenced by the work of mathematicians such as <a href=\"/wiki/Kurt_G%C3%B6del\" title=\"Kurt Gödel\">Kurt Gödel</a>, <a href=\"/wiki/Alan_Turing\" title=\"Alan Turing\">Alan Turing</a>, <a href=\"/wiki/John_von_Neumann\" title=\"John von Neumann\">John von Neumann</a>, <a href=\"/wiki/R%C3%B3zsa_P%C3%A9ter\" title=\"Rózsa Péter\">Rózsa Péter</a> and <a href=\"/wiki/Alonzo_Church\" title=\"Alonzo Church\">Alonzo Church</a> and there continues to be a useful interchange of ideas between the two fields in areas such as <a href=\"/wiki/Mathematical_logic\" title=\"Mathematical logic\">mathematical logic</a>, <a href=\"/wiki/Category_theory\" title=\"Category theory\">category theory</a>, <a href=\"/wiki/Domain_theory\" title=\"Domain theory\">domain theory</a>, and <a href=\"/wiki/Algebra\" title=\"Algebra\">algebra</a>.<sup class=\"reference\" id=\"cite_ref-Tedre2014_31-1\"><a href=\"#cite_note-Tedre2014-31\">[29]</a></sup>\n",
       " </p>,\n",
       " <p>The relationship between Computer Science and Software Engineering is a contentious issue, which is further muddied by <a class=\"mw-redirect\" href='/wiki/Software_engineer#Use_of_the_title_\"Engineer\"' title=\"Software engineer\">disputes</a> over what the term \"Software Engineering\" means, and how computer science is defined.<sup class=\"reference\" id=\"cite_ref-43\"><a href=\"#cite_note-43\">[40]</a></sup> <a href=\"/wiki/David_Parnas\" title=\"David Parnas\">David Parnas</a>, taking a cue from the relationship between other engineering and science disciplines, has claimed that the principal focus of computer science is studying the properties of computation in general, while the principal focus of software engineering is the design of specific computations to achieve practical goals, making the two separate but complementary disciplines.<sup class=\"reference\" id=\"cite_ref-44\"><a href=\"#cite_note-44\">[41]</a></sup>\n",
       " </p>,\n",
       " <p>The academic, political, and funding aspects of computer science tend to depend on whether a department is formed with a mathematical emphasis or with an engineering emphasis. Computer science departments with a mathematics emphasis and with a numerical orientation consider alignment with <a href=\"/wiki/Computational_science\" title=\"Computational science\">computational science</a>. Both types of departments tend to make efforts to bridge the field educationally if not across all research.\n",
       " </p>,\n",
       " <p>\n",
       " Despite the word \"science\" in its name, there is debate over whether or not computer science is a discipline of science, mathematics, or engineering.<sup class=\"reference\" id=\"cite_ref-plato_45-0\"><a href=\"#cite_note-plato-45\">[42]</a></sup> <a href=\"/wiki/Allen_Newell\" title=\"Allen Newell\">Allen Newell</a> and <a href=\"/wiki/Herbert_A._Simon\" title=\"Herbert A. Simon\">Herbert A. Simon</a> argued in 1975, <style data-mw-deduplicate=\"TemplateStyles:r996844942\">.mw-parser-output .templatequote{overflow:hidden;margin:1em 0;padding:0 40px}.mw-parser-output .templatequote .templatequotecite{line-height:1.5em;text-align:left;padding-left:1.6em;margin-top:0}</style></p>,\n",
       " <p>Computer science is an empirical discipline. We would have called it an experimental science, but like astronomy, economics, and geology, some of its unique forms of observation and experience do not fit a narrow stereotype of the experimental method. Nonetheless, they are experiments. Each new machine that is built is an experiment. Actually constructing the machine poses a question to nature; and we listen for the answer by observing the machine in operation and analyzing it by all analytical and measurement means available.<sup class=\"reference\" id=\"cite_ref-plato_45-1\"><a href=\"#cite_note-plato-45\">[42]</a></sup></p>,\n",
       " <p> It has since been argued that computer science can be classified as an empirical science since it makes use of empirical testing to evaluate the <a href=\"/wiki/Correctness_(computer_science)\" title=\"Correctness (computer science)\">correctness of programs</a>, but a problem remains in defining the laws and theorems of computer science (if any exist) and defining the nature of experiments in computer science.<sup class=\"reference\" id=\"cite_ref-plato_45-2\"><a href=\"#cite_note-plato-45\">[42]</a></sup> Proponents of classifying computer science as an engineering discipline argue that the reliability of computational systems is investigated in the same way as bridges in <a href=\"/wiki/Civil_engineering\" title=\"Civil engineering\">civil engineering</a> and airplanes in <a href=\"/wiki/Aerospace_engineering\" title=\"Aerospace engineering\">aerospace engineering</a>.<sup class=\"reference\" id=\"cite_ref-plato_45-3\"><a href=\"#cite_note-plato-45\">[42]</a></sup> They also argue that while empirical sciences observe what presently exists, computer science observes what is possible to exist and while scientists discover laws from observation, no proper laws have been found in computer science and it is instead concerned with creating phenomena.<sup class=\"reference\" id=\"cite_ref-plato_45-4\"><a href=\"#cite_note-plato-45\">[42]</a></sup>\n",
       " </p>,\n",
       " <p>Proponents of classifying computer science as a mathematical discipline argue that computer programs are physical realizations of mathematical entities and programs can be <a href=\"/wiki/Deductive_reasoning\" title=\"Deductive reasoning\">deductively reasoned</a> through mathematical <a href=\"/wiki/Formal_methods\" title=\"Formal methods\">formal methods</a>.<sup class=\"reference\" id=\"cite_ref-plato_45-5\"><a href=\"#cite_note-plato-45\">[42]</a></sup> Computer scientists <a href=\"/wiki/Edsger_W._Dijkstra\" title=\"Edsger W. Dijkstra\">Edsger W. Dijkstra</a> and <a href=\"/wiki/Tony_Hoare\" title=\"Tony Hoare\">Tony Hoare</a> regard instructions for computer programs as mathematical sentences and interpret formal semantics for programming languages as mathematical <a href=\"/wiki/Axiomatic_system\" title=\"Axiomatic system\">axiomatic systems</a>.<sup class=\"reference\" id=\"cite_ref-plato_45-6\"><a href=\"#cite_note-plato-45\">[42]</a></sup>\n",
       " </p>,\n",
       " <p>A number of computer scientists have argued for the distinction of three separate paradigms in computer science. <a href=\"/wiki/Peter_Wegner\" title=\"Peter Wegner\">Peter Wegner</a> argued that those paradigms are science, technology, and mathematics.<sup class=\"reference\" id=\"cite_ref-46\"><a href=\"#cite_note-46\">[43]</a></sup> <a href=\"/wiki/Peter_J._Denning\" title=\"Peter J. Denning\">Peter Denning</a>'s working group argued that they are theory, abstraction (modeling), and design.<sup class=\"reference\" id=\"cite_ref-47\"><a href=\"#cite_note-47\">[44]</a></sup> Amnon H. Eden described them as the \"rationalist paradigm\" (which treats computer science as a branch of mathematics, which is prevalent in theoretical computer science, and mainly employs <a href=\"/wiki/Deductive_reasoning\" title=\"Deductive reasoning\">deductive reasoning</a>), the \"technocratic paradigm\" (which might be found in engineering approaches, most prominently in software engineering), and the \"scientific paradigm\" (which approaches computer-related artifacts from the empirical perspective of <a href=\"/wiki/Natural_science\" title=\"Natural science\">natural sciences</a>, identifiable in some branches of <a href=\"/wiki/Artificial_intelligence\" title=\"Artificial intelligence\">artificial intelligence</a>).<sup class=\"reference\" id=\"cite_ref-48\"><a href=\"#cite_note-48\">[45]</a></sup>\n",
       " Computer science focuses on methods involved in design, specification, programming, verification, implementation and testing of human-made computing systems.<sup class=\"reference\" id=\"cite_ref-49\"><a href=\"#cite_note-49\">[46]</a></sup>\n",
       " </p>,\n",
       " <p>Computer science is no more about computers than astronomy is about telescopes.</p>,\n",
       " <p>As a discipline, computer science spans a range of topics from theoretical studies of algorithms and the limits of computation to the practical issues of implementing computing systems in hardware and software.<sup class=\"reference\" id=\"cite_ref-CSAB1997_50-0\"><a href=\"#cite_note-CSAB1997-50\">[47]</a></sup><sup class=\"reference\" id=\"cite_ref-51\"><a href=\"#cite_note-51\">[48]</a></sup>\n",
       " <a href=\"/wiki/CSAB_(professional_organization)\" title=\"CSAB (professional organization)\">CSAB</a>, formerly called Computing Sciences Accreditation Board—which is made up of representatives of the <a href=\"/wiki/Association_for_Computing_Machinery\" title=\"Association for Computing Machinery\">Association for Computing Machinery</a> (ACM), and the <a href=\"/wiki/IEEE_Computer_Society\" title=\"IEEE Computer Society\">IEEE Computer Society</a> (IEEE CS)<sup class=\"reference\" id=\"cite_ref-52\"><a href=\"#cite_note-52\">[49]</a></sup>—identifies four areas that it considers crucial to the discipline of computer science: <i>theory of computation</i>, <i>algorithms and data structures</i>, <i>programming methodology and languages</i>, and <i>computer elements and architecture</i>. In addition to these four areas, CSAB also identifies fields such as software engineering, artificial intelligence, computer networking and communication, database systems, parallel computation, distributed computation, human–computer interaction, computer graphics, operating systems, and numerical and <a class=\"mw-redirect\" href=\"/wiki/Symbolic_computation\" title=\"Symbolic computation\">symbolic computation</a> as being important areas of computer science.<sup class=\"reference\" id=\"cite_ref-CSAB1997_50-1\"><a href=\"#cite_note-CSAB1997-50\">[47]</a></sup>\n",
       " </p>,\n",
       " <p><i>Theoretical Computer Science</i> is mathematical and abstract in spirit, but it derives its motivation from the practical and everyday computation. Its aim is to understand the nature of computation and, as a consequence of this understanding, provide more efficient methodologies.\n",
       " </p>,\n",
       " <p>According to <a href=\"/wiki/Peter_J._Denning\" title=\"Peter J. Denning\">Peter Denning</a>, the fundamental question underlying computer science is, \"What can be automated?\"<sup class=\"reference\" id=\"cite_ref-Denning_cs_discipline_28-2\"><a href=\"#cite_note-Denning_cs_discipline-28\">[26]</a></sup> Theory of computation is focused on answering fundamental questions about what can be computed and what amount of resources are required to perform those computations. In an effort to answer the first question, <a href=\"/wiki/Computability_theory\" title=\"Computability theory\">computability theory</a> examines which computational problems are solvable on various theoretical <a class=\"mw-redirect\" href=\"/wiki/Models_of_computation\" title=\"Models of computation\">models of computation</a>. The second question is addressed by <a href=\"/wiki/Computational_complexity_theory\" title=\"Computational complexity theory\">computational complexity theory</a>, which studies the time and space costs associated with different approaches to solving a multitude of computational problems.\n",
       " </p>,\n",
       " <p>The famous <a href=\"/wiki/P_versus_NP_problem\" title=\"P versus NP problem\">P = NP?</a> problem, one of the <a href=\"/wiki/Millennium_Prize_Problems\" title=\"Millennium Prize Problems\">Millennium Prize Problems</a>,<sup class=\"reference\" id=\"cite_ref-53\"><a href=\"#cite_note-53\">[50]</a></sup> is an open problem in the theory of computation.\n",
       " </p>,\n",
       " <p>Information theory, closely related to <a href=\"/wiki/Probability\" title=\"Probability\">probability</a> and <a href=\"/wiki/Statistics\" title=\"Statistics\">statistics</a>, is related to the quantification of information. This was developed by <a href=\"/wiki/Claude_Shannon\" title=\"Claude Shannon\">Claude Shannon</a> to find fundamental limits on <a href=\"/wiki/Signal_processing\" title=\"Signal processing\">signal processing</a> operations such as compressing data and on reliably storing and communicating data.<sup class=\"reference\" id=\"cite_ref-54\"><a href=\"#cite_note-54\">[51]</a></sup>\n",
       " Coding theory is the study of the properties of <a href=\"/wiki/Code\" title=\"Code\">codes</a> (systems for converting information from one form to another) and their fitness for a specific application. Codes are used for <a href=\"/wiki/Data_compression\" title=\"Data compression\">data compression</a>, <a href=\"/wiki/Cryptography\" title=\"Cryptography\">cryptography</a>, <a href=\"/wiki/Error_detection_and_correction\" title=\"Error detection and correction\">error detection and correction</a>, and more recently also for <a href=\"/wiki/Linear_network_coding\" title=\"Linear network coding\">network coding</a>. Codes are studied for the purpose of designing efficient and reliable <a class=\"mw-redirect\" href=\"/wiki/Data_transmission\" title=\"Data transmission\">data transmission</a> methods.\n",
       " <sup class=\"reference\" id=\"cite_ref-55\"><a href=\"#cite_note-55\">[52]</a></sup>\n",
       " </p>,\n",
       " <p>Data structures and algorithms are the studies of commonly used computational methods and their computational efficiency.\n",
       " </p>,\n",
       " <p>Programming language theory is a branch of computer science that deals with the design, implementation, analysis, characterization, and classification of <a href=\"/wiki/Programming_language\" title=\"Programming language\">programming languages</a> and their individual <a href=\"/wiki/Programming_language#Elements\" title=\"Programming language\">features</a>. It falls within the discipline of computer science, both depending on and affecting <a href=\"/wiki/Mathematics\" title=\"Mathematics\">mathematics</a>, software engineering, and <a href=\"/wiki/Linguistics\" title=\"Linguistics\">linguistics</a>. It is an active research area, with numerous dedicated academic journals.\n",
       " </p>,\n",
       " <p>Formal methods are a particular kind of <a href=\"/wiki/Mathematics\" title=\"Mathematics\">mathematically</a> based technique for the <a href=\"/wiki/Formal_specification\" title=\"Formal specification\">specification</a>, development and <a href=\"/wiki/Formal_verification\" title=\"Formal verification\">verification</a> of software and <a href=\"/wiki/Computer_hardware\" title=\"Computer hardware\">hardware</a> systems.<sup class=\"reference\" id=\"cite_ref-56\"><a href=\"#cite_note-56\">[53]</a></sup> The use of formal methods for software and hardware design is motivated by the expectation that, as in other engineering disciplines, performing appropriate mathematical analysis can contribute to the reliability and robustness of a design. They form an important theoretical underpinning for software engineering, especially where safety or security is involved. Formal methods are a useful adjunct to software testing since they help avoid errors and can also give a framework for testing. For industrial use, tool support is required. However, the high cost of using formal methods means that they are usually only used in the development of high-integrity and <a class=\"mw-redirect\" href=\"/wiki/Life-critical_system\" title=\"Life-critical system\">life-critical systems</a>, where safety or <a href=\"/wiki/Computer_security\" title=\"Computer security\">security</a> is of utmost importance. Formal methods are best described as the application of a fairly broad variety of <a href=\"/wiki/Theoretical_computer_science\" title=\"Theoretical computer science\">theoretical computer science</a> fundamentals, in particular <a href=\"/wiki/Logic_in_computer_science\" title=\"Logic in computer science\">logic</a> calculi, <a href=\"/wiki/Formal_language\" title=\"Formal language\">formal languages</a>, <a href=\"/wiki/Automata_theory\" title=\"Automata theory\">automata theory</a>, and <a class=\"mw-redirect\" href=\"/wiki/Program_semantics\" title=\"Program semantics\">program semantics</a>, but also <a class=\"mw-redirect\" href=\"/wiki/Type_systems\" title=\"Type systems\">type systems</a> and <a class=\"mw-redirect\" href=\"/wiki/Algebraic_data_types\" title=\"Algebraic data types\">algebraic data types</a> to problems in software and hardware specification and verification.\n",
       " </p>,\n",
       " <p>Artificial intelligence (AI) aims to or is required to synthesize goal-orientated processes such as problem-solving, decision-making, environmental adaptation, learning, and communication found in humans and animals. From its origins in <a href=\"/wiki/Cybernetics\" title=\"Cybernetics\">cybernetics</a> and in the <a href=\"/wiki/History_of_artificial_intelligence\" title=\"History of artificial intelligence\">Dartmouth Conference</a> (1956), artificial intelligence research has been necessarily cross-disciplinary, drawing on areas of expertise such as <a href=\"/wiki/Applied_mathematics\" title=\"Applied mathematics\">applied mathematics</a>, <a href=\"/wiki/Mathematical_logic\" title=\"Mathematical logic\">symbolic logic</a>, <a href=\"/wiki/Semiotics\" title=\"Semiotics\">semiotics</a>, <a href=\"/wiki/Electrical_engineering\" title=\"Electrical engineering\">electrical engineering</a>, <a href=\"/wiki/Philosophy_of_mind\" title=\"Philosophy of mind\">philosophy of mind</a>, <a href=\"/wiki/Neurophysiology\" title=\"Neurophysiology\">neurophysiology</a>, and <a href=\"/wiki/Social_intelligence\" title=\"Social intelligence\">social intelligence</a>. AI is associated in the popular mind with <a href=\"/wiki/Robotics\" title=\"Robotics\">robotic development</a>, but the main field of practical application has been as an embedded component in areas of <a href=\"/wiki/Software_development\" title=\"Software development\">software development</a>, which require computational understanding. The starting point in the late 1940s was <a href=\"/wiki/Alan_Turing\" title=\"Alan Turing\">Alan Turing</a>'s question \"Can computers think?\", and the question remains effectively unanswered, although the <a href=\"/wiki/Turing_test\" title=\"Turing test\">Turing test</a> is still used to assess computer output on the scale of human intelligence. But the automation of evaluative and predictive tasks has been increasingly successful as a substitute for human monitoring and intervention in domains of computer application involving complex real-world data.\n",
       " </p>,\n",
       " <p>Computer architecture, or digital computer organization, is the conceptual design and fundamental operational structure of a computer system. It focuses largely on the way by which the central processing unit performs internally and accesses addresses in memory.<sup class=\"reference\" id=\"cite_ref-57\"><a href=\"#cite_note-57\">[54]</a></sup> Computer engineers study <a href=\"/wiki/Computational_logic\" title=\"Computational logic\">computational logic</a> and design of <a href=\"/wiki/Computer_hardware\" title=\"Computer hardware\">computer hardware</a>, from individual <a href=\"/wiki/Processor_(computing)\" title=\"Processor (computing)\">processor</a> components, <a href=\"/wiki/Microcontroller\" title=\"Microcontroller\">microcontrollers</a>, <a href=\"/wiki/Personal_computer\" title=\"Personal computer\">personal computers</a> to <a href=\"/wiki/Supercomputer\" title=\"Supercomputer\">supercomputers</a> and <a href=\"/wiki/Embedded_system\" title=\"Embedded system\">embedded systems</a>. The term “architecture” in computer literature can be traced to the work of Lyle R. Johnson and <a href=\"/wiki/Fred_Brooks\" title=\"Fred Brooks\">Frederick P. Brooks, Jr.</a>, members of the Machine Organization department in IBM's main research center in 1959.\n",
       " </p>,\n",
       " <p>Concurrency is a property of systems in which several computations are executing simultaneously, and potentially interacting with each other.<sup class=\"reference\" id=\"cite_ref-58\"><a href=\"#cite_note-58\">[55]</a></sup> A number of mathematical models have been developed for general concurrent computation including <a href=\"/wiki/Petri_net\" title=\"Petri net\">Petri nets</a>, <a href=\"/wiki/Process_calculus\" title=\"Process calculus\">process calculi</a> and the <a class=\"mw-redirect\" href=\"/wiki/Parallel_random-access_machine\" title=\"Parallel random-access machine\">Parallel Random Access Machine</a> model.<sup class=\"reference\" id=\"cite_ref-59\"><a href=\"#cite_note-59\">[56]</a></sup> When multiple computers are connected in a network while using concurrency, this is known as a distributed system. Computers within that distributed system have their own private memory, and information can be exchanged to achieve common goals.<sup class=\"reference\" id=\"cite_ref-60\"><a href=\"#cite_note-60\">[57]</a></sup>\n",
       " </p>,\n",
       " <p>This branch of computer science aims to manage networks between computers worldwide.\n",
       " </p>,\n",
       " <p>Computer security is a branch of computer technology with the objective of protecting information from unauthorized access, disruption, or modification while maintaining the accessibility and usability of the system for its intended users.\n",
       " </p>,\n",
       " <p>Historical <a href=\"/wiki/Cryptography\" title=\"Cryptography\">cryptography</a> is the art of writing and deciphering secret messages. Modern cryptography is the scientific study of problems relating to distributed computations that can be attacked.<sup class=\"reference\" id=\"cite_ref-61\"><a href=\"#cite_note-61\">[58]</a></sup> Technologies studied in modern cryptography include symmetric and asymmetric <a href=\"/wiki/Encryption\" title=\"Encryption\">encryption</a>, <a href=\"/wiki/Digital_signature\" title=\"Digital signature\">digital signatures</a>, <a href=\"/wiki/Cryptographic_hash_function\" title=\"Cryptographic hash function\">cryptographic hash functions</a>, <a href=\"/wiki/Key-agreement_protocol\" title=\"Key-agreement protocol\">key-agreement protocols</a>, <a href=\"/wiki/Blockchain\" title=\"Blockchain\">blockchain</a>, <a href=\"/wiki/Zero-knowledge_proof\" title=\"Zero-knowledge proof\">zero-knowledge proofs</a>, and <a href=\"/wiki/Garbled_circuit\" title=\"Garbled circuit\">garbled circuits</a>.\n",
       " </p>,\n",
       " <p>A database is intended to organize, store, and retrieve large amounts of data easily. Digital databases are managed using database management systems to store, create, maintain, and search data, through <a href=\"/wiki/Database_model\" title=\"Database model\">database models</a> and <a href=\"/wiki/Query_language\" title=\"Query language\">query languages</a>. Data mining is a process of discovering patterns in large data sets.\n",
       " </p>,\n",
       " <p>Computer graphics is the study of digital visual contents and involves the synthesis and manipulation of image data. The study is connected to many other fields in computer science, including <a href=\"/wiki/Computer_vision\" title=\"Computer vision\">computer vision</a>, <a class=\"mw-redirect\" href=\"/wiki/Image_processing\" title=\"Image processing\">image processing</a>, and <a href=\"/wiki/Computational_geometry\" title=\"Computational geometry\">computational geometry</a>, and is heavily applied in the fields of special effects and <a href=\"/wiki/Video_game\" title=\"Video game\">video games</a>.\n",
       " </p>,\n",
       " <p><a href=\"/wiki/Information\" title=\"Information\">Information</a> can take the form of images, sound, video or other multimedia. <a href=\"/wiki/Bit\" title=\"Bit\">Bits</a> of information can be streamed via <a href=\"/wiki/Signal\" title=\"Signal\">signals</a>. Its <a href=\"/wiki/Information_processing\" title=\"Information processing\">processing</a> is the central notion of <a href=\"/wiki/Informatics\" title=\"Informatics\">informatics</a>, the European view on <a href=\"/wiki/Computing\" title=\"Computing\">computing</a>, which studies information processing algorithms independently of the type of information carrier - whether it is electrical, mechanical or biological. This field plays important role in <a href=\"/wiki/Information_theory\" title=\"Information theory\">information theory</a>, <a href=\"/wiki/Telecommunications\" title=\"Telecommunications\">telecommunications</a>, <a href=\"/wiki/Information_engineering_(field)\" title=\"Information engineering (field)\">information engineering</a> and has applications in <a href=\"/wiki/Medical_image_computing\" title=\"Medical image computing\">medical image computing</a> and <a href=\"/wiki/Speech_synthesis\" title=\"Speech synthesis\">speech synthesis</a>, among others. <i>What is the lower bound on the complexity of <a href=\"/wiki/Fast_Fourier_transform\" title=\"Fast Fourier transform\">fast Fourier transform</a> algorithms?</i> is one of <a href=\"/wiki/List_of_unsolved_problems_in_computer_science\" title=\"List of unsolved problems in computer science\">unsolved problems in theoretical computer science</a>.\n",
       " </p>,\n",
       " <p><a class=\"mw-redirect\" href=\"/wiki/Scientific_computing\" title=\"Scientific computing\">Scientific computing</a> (or <a href=\"/wiki/Computational_science\" title=\"Computational science\">computational science</a>) is the field of study concerned with constructing <a href=\"/wiki/Scientific_modelling\" title=\"Scientific modelling\">mathematical models</a> and <a href=\"/wiki/Numerical_analysis\" title=\"Numerical analysis\">quantitative analysis</a> techniques and using computers to analyze and solve <a href=\"/wiki/Science\" title=\"Science\">scientific</a> problems. A major usage of scientific computing is <a href=\"/wiki/Simulation\" title=\"Simulation\">simulation</a> of various processes, including computational <a href=\"/wiki/Fluid_dynamics\" title=\"Fluid dynamics\">fluid dynamics</a>, physical, electrical, and electronic systems and circuits, as well as societies and social situations (notably war games) along with their habitats, among many others. Modern computers enable optimization of such designs as complete aircraft. Notable in electrical and electronic circuit design are SPICE,<sup class=\"reference\" id=\"cite_ref-62\"><a href=\"#cite_note-62\">[59]</a></sup> as well as software for physical realization of new (or modified) designs. The latter includes essential design software for <a href=\"/wiki/Integrated_circuit\" title=\"Integrated circuit\">integrated circuits</a>.<sup class=\"reference\" id=\"cite_ref-63\"><a href=\"#cite_note-63\">[60]</a></sup>\n",
       " </p>,\n",
       " <p>Social computing is an area that is concerned with the intersection of social behavior and computational systems. Human–computer interaction research develops theories, principles, and guidelines for user interface designers.\n",
       " </p>,\n",
       " <p>Software engineering is the study of designing, implementing, and modifying the software in order to ensure it is of high quality, affordable, maintainable, and fast to build. It is a systematic approach to software design, involving the application of engineering practices to software. Software engineering deals with the organizing and analyzing of software—it doesn't just deal with the creation or manufacture of new software, but its internal arrangement and maintenance. For example <a href=\"/wiki/Software_testing\" title=\"Software testing\">software testing</a>, <a href=\"/wiki/Systems_engineering\" title=\"Systems engineering\">systems engineering</a>, <a href=\"/wiki/Technical_debt\" title=\"Technical debt\">technical debt</a> and <a href=\"/wiki/Software_development_process\" title=\"Software development process\">software development processes</a>.\n",
       " </p>,\n",
       " <p>The philosopher of computing <a href=\"/wiki/William_J._Rapaport\" title=\"William J. Rapaport\">Bill Rapaport</a> noted three <i>Great Insights of Computer Science</i>:<sup class=\"reference\" id=\"cite_ref-64\"><a href=\"#cite_note-64\">[61]</a></sup>\n",
       " </p>,\n",
       " <p>Programming languages can be used to accomplish different tasks in different ways. Common programming paradigms include:\n",
       " </p>,\n",
       " <p>Many languages offer support for multiple paradigms, making the distinction more a matter of style than of technical capabilities.<sup class=\"reference\" id=\"cite_ref-71\"><a href=\"#cite_note-71\">[67]</a></sup>\n",
       " </p>,\n",
       " <p>Conferences are important events for computer science research. During these conferences, researchers from the public and private sectors present their recent work and meet. Unlike in most other academic fields, in computer science, the prestige of <a class=\"mw-redirect\" href=\"/wiki/Proceedings\" title=\"Proceedings\">conference papers</a> is greater than that of journal publications.<sup class=\"reference\" id=\"cite_ref-72\"><a href=\"#cite_note-72\">[68]</a></sup><sup class=\"reference\" id=\"cite_ref-73\"><a href=\"#cite_note-73\">[69]</a></sup> One proposed explanation for this is the quick development of this relatively new field requires rapid review and distribution of results, a task better handled by conferences than by journals.<sup class=\"reference\" id=\"cite_ref-74\"><a href=\"#cite_note-74\">[70]</a></sup>\n",
       " </p>,\n",
       " <p><b>Computer Science</b>, known by its near synonyms, <b>Computing</b>, <b>Computer Studies</b>, has been taught in UK schools since the days of <a href=\"/wiki/Batch_processing\" title=\"Batch processing\">batch processing</a>, <a class=\"mw-redirect\" href=\"/wiki/Punched_cards\" title=\"Punched cards\">mark sensitive cards</a> and <a class=\"mw-redirect\" href=\"/wiki/Paper_tape\" title=\"Paper tape\">paper tape</a> but usually to a select few students.<sup class=\"reference\" id=\"cite_ref-75\"><a href=\"#cite_note-75\">[71]</a></sup> In 1981, the BBC produced a <a class=\"mw-redirect\" href=\"/wiki/BBC_Model_B\" title=\"BBC Model B\">micro-computer</a> and <a href=\"/wiki/Econet\" title=\"Econet\">classroom network</a> and Computer Studies became common for GCE <a class=\"mw-redirect\" href=\"/wiki/O_level\" title=\"O level\">O level</a> students (11–16-year-old), and Computer Science to <a class=\"mw-redirect\" href=\"/wiki/A_level\" title=\"A level\">A level</a> students. Its importance was recognised, and it became a compulsory part of the <a class=\"mw-redirect\" href=\"/wiki/National_Curriculum\" title=\"National Curriculum\">National Curriculum</a>, for Key Stage 3 &amp; 4. In September 2014 it became an entitlement for all pupils over the age of 4.<sup class=\"reference\" id=\"cite_ref-Jones_76-0\"><a href=\"#cite_note-Jones-76\">[72]</a></sup>\n",
       " </p>,\n",
       " <p>In the <a class=\"mw-redirect\" href=\"/wiki/United_States_of_America\" title=\"United States of America\">US</a>, with 14,000 school districts deciding the curriculum, provision was fractured.<sup class=\"reference\" id=\"cite_ref-77\"><a href=\"#cite_note-77\">[73]</a></sup> According to a 2010 report by the <a href=\"/wiki/Association_for_Computing_Machinery\" title=\"Association for Computing Machinery\">Association for Computing Machinery</a> (ACM) and <a href=\"/wiki/Computer_Science_Teachers_Association\" title=\"Computer Science Teachers Association\">Computer Science Teachers Association</a> (CSTA), only 14 out of 50 states have adopted significant education standards for high school computer science.<sup class=\"reference\" id=\"cite_ref-78\"><a href=\"#cite_note-78\">[74]</a></sup>\n",
       " </p>,\n",
       " <p>Israel, New Zealand, and South Korea have included computer science in their national secondary education curricula,<sup class=\"reference\" id=\"cite_ref-79\"><a href=\"#cite_note-79\">[75]</a></sup><sup class=\"reference\" id=\"cite_ref-80\"><a href=\"#cite_note-80\">[76]</a></sup> and several others are following.<sup class=\"reference\" id=\"cite_ref-81\"><a href=\"#cite_note-81\">[77]</a></sup>\n",
       " </p>]"
      ]
     },
     "execution_count": 19,
     "metadata": {},
     "output_type": "execute_result"
    }
   ],
   "source": [
    "para"
   ]
  },
  {
   "cell_type": "code",
   "execution_count": 20,
   "metadata": {},
   "outputs": [],
   "source": [
    "import pandas as pd"
   ]
  },
  {
   "cell_type": "code",
   "execution_count": 23,
   "metadata": {},
   "outputs": [],
   "source": [
    "data = pd.read_excel('data2.xlsx')"
   ]
  },
  {
   "cell_type": "code",
   "execution_count": 24,
   "metadata": {},
   "outputs": [
    {
     "data": {
      "text/html": [
       "<div>\n",
       "<style scoped>\n",
       "    .dataframe tbody tr th:only-of-type {\n",
       "        vertical-align: middle;\n",
       "    }\n",
       "\n",
       "    .dataframe tbody tr th {\n",
       "        vertical-align: top;\n",
       "    }\n",
       "\n",
       "    .dataframe thead th {\n",
       "        text-align: right;\n",
       "    }\n",
       "</style>\n",
       "<table border=\"1\" class=\"dataframe\">\n",
       "  <thead>\n",
       "    <tr style=\"text-align: right;\">\n",
       "      <th></th>\n",
       "      <th>Names</th>\n",
       "    </tr>\n",
       "  </thead>\n",
       "  <tbody>\n",
       "    <tr>\n",
       "      <th>0</th>\n",
       "      <td>head1</td>\n",
       "    </tr>\n",
       "    <tr>\n",
       "      <th>1</th>\n",
       "      <td>head2</td>\n",
       "    </tr>\n",
       "    <tr>\n",
       "      <th>2</th>\n",
       "      <td>head3</td>\n",
       "    </tr>\n",
       "    <tr>\n",
       "      <th>3</th>\n",
       "      <td>head4</td>\n",
       "    </tr>\n",
       "    <tr>\n",
       "      <th>4</th>\n",
       "      <td>para</td>\n",
       "    </tr>\n",
       "  </tbody>\n",
       "</table>\n",
       "</div>"
      ],
      "text/plain": [
       "   Names\n",
       "0  head1\n",
       "1  head2\n",
       "2  head3\n",
       "3  head4\n",
       "4   para"
      ]
     },
     "execution_count": 24,
     "metadata": {},
     "output_type": "execute_result"
    }
   ],
   "source": [
    "data"
   ]
  },
  {
   "cell_type": "code",
   "execution_count": 25,
   "metadata": {},
   "outputs": [
    {
     "data": {
      "text/plain": [
       "0    head1\n",
       "1    head2\n",
       "2    head3\n",
       "3    head4\n",
       "4     para\n",
       "Name: Names, dtype: object"
      ]
     },
     "execution_count": 25,
     "metadata": {},
     "output_type": "execute_result"
    }
   ],
   "source": [
    "data['Names']"
   ]
  },
  {
   "cell_type": "code",
   "execution_count": 26,
   "metadata": {},
   "outputs": [],
   "source": [
    "names = list(data['Names'])"
   ]
  },
  {
   "cell_type": "code",
   "execution_count": 27,
   "metadata": {},
   "outputs": [
    {
     "data": {
      "text/plain": [
       "['head1', 'head2', 'head3', 'head4', 'para']"
      ]
     },
     "execution_count": 27,
     "metadata": {},
     "output_type": "execute_result"
    }
   ],
   "source": [
    "names"
   ]
  },
  {
   "cell_type": "code",
   "execution_count": 28,
   "metadata": {},
   "outputs": [],
   "source": [
    "hd1 = []\n",
    "hd2 = []\n",
    "hd3 = []\n",
    "hd4 = []\n",
    "paras = []\n",
    "\n",
    "for i in names:\n",
    "    page = requests.get(f\"https://en.wikipedia.org/wiki/Computer_science/{i}\")\n",
    "    soup = BeautifulSoup(page.content,'html.parser')\n",
    "    \n",
    "    hed1 = soup.find(\"h1\",id=\"firstHeading\")\n",
    "    hed2 = soup.find(\"h2\")\n",
    "    hed3 = soup.find(\"h3\")\n",
    "    hed4 = soup.find(\"h4\")\n",
    "    para = soup.find(\"p\")\n",
    "    \n",
    "    \n",
    "    hd1.append(hed1)\n",
    "    hd2.append(hed2)\n",
    "    hd3.append(hed3)\n",
    "    hd4.append(hed4)\n",
    "    paras.append(para)\n",
    "    \n",
    "    \n",
    "\n",
    "    "
   ]
  },
  {
   "cell_type": "code",
   "execution_count": 30,
   "metadata": {},
   "outputs": [
    {
     "name": "stdout",
     "output_type": "stream",
     "text": [
      "[<h3>\n",
      "<label for=\"searchInput\">Search</label>\n",
      "</h3>, <h3>\n",
      "<label for=\"searchInput\">Search</label>\n",
      "</h3>, <h3>\n",
      "<label for=\"searchInput\">Search</label>\n",
      "</h3>, <h3>\n",
      "<label for=\"searchInput\">Search</label>\n",
      "</h3>, <h3>\n",
      "<label for=\"searchInput\">Search</label>\n",
      "</h3>]\n"
     ]
    }
   ],
   "source": [
    "print(hd3)"
   ]
  },
  {
   "cell_type": "code",
   "execution_count": 33,
   "metadata": {},
   "outputs": [],
   "source": [
    "all_data = {\"Names\":names , \"Data\":data}"
   ]
  },
  {
   "cell_type": "code",
   "execution_count": 34,
   "metadata": {},
   "outputs": [],
   "source": [
    "df = pd.DataFrame(all_data)"
   ]
  },
  {
   "cell_type": "code",
   "execution_count": 35,
   "metadata": {},
   "outputs": [],
   "source": [
    "df.to_csv(\"web_scrap.csv\")"
   ]
  },
  {
   "cell_type": "code",
   "execution_count": null,
   "metadata": {},
   "outputs": [],
   "source": []
  }
 ],
 "metadata": {
  "kernelspec": {
   "display_name": "Python 3",
   "language": "python",
   "name": "python3"
  },
  "language_info": {
   "codemirror_mode": {
    "name": "ipython",
    "version": 3
   },
   "file_extension": ".py",
   "mimetype": "text/x-python",
   "name": "python",
   "nbconvert_exporter": "python",
   "pygments_lexer": "ipython3",
   "version": "3.8.5"
  }
 },
 "nbformat": 4,
 "nbformat_minor": 4
}
